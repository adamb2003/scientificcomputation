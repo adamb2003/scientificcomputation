{
 "cells": [
  {
   "cell_type": "markdown",
   "metadata": {},
   "source": [
    "## Scientific Computation Lab 4"
   ]
  },
  {
   "cell_type": "markdown",
   "metadata": {},
   "source": [
    "In this lab, you will modify graph search functions so that they find shortest paths and identify connected components in graphs provided as input. You will also be asked to analyze the theoretical cost of the resulting codes."
   ]
  },
  {
   "cell_type": "markdown",
   "metadata": {},
   "source": [
    "### Task 1: Shortest paths from BFS"
   ]
  },
  {
   "cell_type": "markdown",
   "metadata": {},
   "source": [
    "The BFS code developed in lecture finds all reachable nodes from a source and computes the distance of the shortest path from the source to each reachable node:"
   ]
  },
  {
   "cell_type": "code",
   "execution_count": 1,
   "metadata": {},
   "outputs": [],
   "source": [
    "import networkx as nx\n",
    "\n",
    "def bfs(G,s):\n",
    "    \"\"\"\n",
    "    Input:\n",
    "    G: networkx graph\n",
    "    x: source node\n",
    "\n",
    "    Output:\n",
    "    L2: Labels for all nodes in graph, 0=unreachable from source, 1=reachable\n",
    "    L3: Shortest distance from source to nodes in graph\n",
    "    \"\"\"\n",
    "\n",
    "    L1 = list(G.nodes) #Assumes nodes are numbered from 0 to N-1\n",
    "    L2 = [0 for l in L1] #Labels\n",
    "    L3 = [-1000 for l in L1] #Distances\n",
    "    L4 = [[] for l in L1] #Paths \n",
    "    Q=[]\n",
    "    Q.append(s)\n",
    "    L2[s]=1\n",
    "    L3[s]=0\n",
    "    L4[s] = [s]\n",
    "    while len(Q)>0:\n",
    "        x = Q.pop(0) #remove node from front of queue\n",
    "        print(\"***x=\",x,' ***')\n",
    "        for v in G.adj[x].keys():\n",
    "            if L2[v]==0:\n",
    "                Q.append(v) #add unexplored neighbors to back of queue\n",
    "                L2[v]=1\n",
    "                L3[v]=1+L3[x]\n",
    "                #add code here\n",
    "            \n",
    "            print(\"v=\",v)\n",
    "            print(\"Q=\",Q)\n",
    "    return L2,L3"
   ]
  },
  {
   "cell_type": "code",
   "execution_count": 6,
   "metadata": {},
   "outputs": [
    {
     "name": "stdout",
     "output_type": "stream",
     "text": [
      "***x= 1  ***\n",
      "v= 2\n",
      "Q= [2]\n",
      "v= 5\n",
      "Q= [2, 5]\n",
      "***x= 2  ***\n",
      "v= 1\n",
      "Q= [5]\n",
      "v= 5\n",
      "Q= [5]\n",
      "v= 3\n",
      "Q= [5, 3]\n",
      "***x= 5  ***\n",
      "v= 1\n",
      "Q= [3]\n",
      "v= 2\n",
      "Q= [3]\n",
      "v= 4\n",
      "Q= [3, 4]\n",
      "***x= 3  ***\n",
      "v= 2\n",
      "Q= [4]\n",
      "v= 4\n",
      "Q= [4]\n",
      "***x= 4  ***\n",
      "v= 3\n",
      "Q= []\n",
      "v= 5\n",
      "Q= []\n"
     ]
    },
    {
     "ename": "IndexError",
     "evalue": "list index out of range",
     "output_type": "error",
     "traceback": [
      "\u001b[0;31m---------------------------------------------------------------------------\u001b[0m",
      "\u001b[0;31mIndexError\u001b[0m                                Traceback (most recent call last)",
      "Cell \u001b[0;32mIn[6], line 6\u001b[0m\n\u001b[1;32m      4\u001b[0m G\u001b[38;5;241m.\u001b[39madd_edges_from(e)\n\u001b[1;32m      5\u001b[0m x \u001b[38;5;241m=\u001b[39m \u001b[38;5;241m1\u001b[39m\n\u001b[0;32m----> 6\u001b[0m bfs(G, x)\n",
      "Cell \u001b[0;32mIn[2], line 28\u001b[0m, in \u001b[0;36mbfs\u001b[0;34m(G, s)\u001b[0m\n\u001b[1;32m     26\u001b[0m \u001b[38;5;28mprint\u001b[39m(\u001b[38;5;124m\"\u001b[39m\u001b[38;5;124m***x=\u001b[39m\u001b[38;5;124m\"\u001b[39m,x,\u001b[38;5;124m'\u001b[39m\u001b[38;5;124m ***\u001b[39m\u001b[38;5;124m'\u001b[39m)\n\u001b[1;32m     27\u001b[0m \u001b[38;5;28;01mfor\u001b[39;00m v \u001b[38;5;129;01min\u001b[39;00m G\u001b[38;5;241m.\u001b[39madj[x]:\n\u001b[0;32m---> 28\u001b[0m     \u001b[38;5;28;01mif\u001b[39;00m L2[v]\u001b[38;5;241m==\u001b[39m\u001b[38;5;241m0\u001b[39m:\n\u001b[1;32m     29\u001b[0m         Q\u001b[38;5;241m.\u001b[39mappend(v) \u001b[38;5;66;03m#add unexplored neighbors to back of queue\u001b[39;00m\n\u001b[1;32m     30\u001b[0m         L2[v]\u001b[38;5;241m=\u001b[39m\u001b[38;5;241m1\u001b[39m\n",
      "\u001b[0;31mIndexError\u001b[0m: list index out of range"
     ]
    }
   ],
   "source": [
    "#Testing\n",
    "G = nx.Graph()\n",
    "e = [(1, 2), (1, 5), (2, 5), (2, 3), (3, 4), (4, 5), (4, 6)]\n",
    "G.add_edges_from(e)\n",
    "x = 1\n",
    "bfs(G, x)"
   ]
  },
  {
   "cell_type": "markdown",
   "metadata": {},
   "source": [
    "1. Modify the function above so that it returns a list, *L4*, whose *i+1th* element, *L4[i]* contains a list of nodes for the shortest path between the source and node *i*. For example, L4=[[0],[0,2,3,1],[0,2],[0,3]] would indicate that the shortest path between nodes 0 and 1 is 0->2->3->1. "
   ]
  },
  {
   "cell_type": "code",
   "execution_count": 2,
   "metadata": {},
   "outputs": [],
   "source": [
    "#New function here\n",
    "import networkx as nx\n",
    "\n",
    "def bfs(G,s):\n",
    "    \"\"\"\n",
    "    Input:\n",
    "    G: networkx graph\n",
    "    x: source node\n",
    "\n",
    "    Output:\n",
    "    L2: Labels for all nodes in graph, 0=unreachable from source, 1=reachable\n",
    "    L3: Shortest distance from source to nodes in graph\n",
    "    \"\"\"\n",
    "\n",
    "    L1 = list(G.nodes) #Assumes nodes are numbered from 0 to N-1\n",
    "    L2 = [0 for l in L1] #Labels\n",
    "    L3 = [-1000 for l in L1] #Distances\n",
    "    L4 = [[] for l in L1] #Paths \n",
    "    Q=[]\n",
    "    Q.append(s)\n",
    "    L2[s]=1\n",
    "    L3[s]=0\n",
    "    L4[s] = [s]\n",
    "    while len(Q)>0:\n",
    "        x = Q.pop(0) #remove node from front of queue\n",
    "        print(\"***x=\",x,' ***')\n",
    "        for v in G.adj[x]:\n",
    "            if L2[v]==0:\n",
    "                Q.append(v) #add unexplored neighbors to back of queue\n",
    "                L2[v]=1\n",
    "                L3[v]=1+L3[x]\n",
    "                #add code here\n",
    "                L4[v].extend(L4[x]) #Add path to node x and node v to path\n",
    "                L4[v].append(v)     #for node v           \n",
    "            print(\"v=\",v)\n",
    "            print(\"Q=\",Q)\n",
    "    return L2,L3,L4\n"
   ]
  },
  {
   "cell_type": "code",
   "execution_count": 7,
   "metadata": {},
   "outputs": [
    {
     "name": "stdout",
     "output_type": "stream",
     "text": [
      "***x= 1  ***\n",
      "v= 2\n",
      "Q= [2]\n",
      "v= 5\n",
      "Q= [2, 5]\n",
      "***x= 2  ***\n",
      "v= 1\n",
      "Q= [5]\n",
      "v= 5\n",
      "Q= [5]\n",
      "v= 3\n",
      "Q= [5, 3]\n",
      "***x= 5  ***\n",
      "v= 1\n",
      "Q= [3]\n",
      "v= 2\n",
      "Q= [3]\n",
      "v= 4\n",
      "Q= [3, 4]\n",
      "***x= 3  ***\n",
      "v= 2\n",
      "Q= [4]\n",
      "v= 4\n",
      "Q= [4]\n",
      "***x= 4  ***\n",
      "v= 3\n",
      "Q= []\n",
      "v= 5\n",
      "Q= []\n"
     ]
    },
    {
     "ename": "IndexError",
     "evalue": "list index out of range",
     "output_type": "error",
     "traceback": [
      "\u001b[0;31m---------------------------------------------------------------------------\u001b[0m",
      "\u001b[0;31mIndexError\u001b[0m                                Traceback (most recent call last)",
      "Cell \u001b[0;32mIn[7], line 6\u001b[0m\n\u001b[1;32m      4\u001b[0m G\u001b[38;5;241m.\u001b[39madd_edges_from(e)\n\u001b[1;32m      5\u001b[0m x \u001b[38;5;241m=\u001b[39m \u001b[38;5;241m1\u001b[39m\n\u001b[0;32m----> 6\u001b[0m bfs(G, x)\n",
      "Cell \u001b[0;32mIn[2], line 28\u001b[0m, in \u001b[0;36mbfs\u001b[0;34m(G, s)\u001b[0m\n\u001b[1;32m     26\u001b[0m \u001b[38;5;28mprint\u001b[39m(\u001b[38;5;124m\"\u001b[39m\u001b[38;5;124m***x=\u001b[39m\u001b[38;5;124m\"\u001b[39m,x,\u001b[38;5;124m'\u001b[39m\u001b[38;5;124m ***\u001b[39m\u001b[38;5;124m'\u001b[39m)\n\u001b[1;32m     27\u001b[0m \u001b[38;5;28;01mfor\u001b[39;00m v \u001b[38;5;129;01min\u001b[39;00m G\u001b[38;5;241m.\u001b[39madj[x]:\n\u001b[0;32m---> 28\u001b[0m     \u001b[38;5;28;01mif\u001b[39;00m L2[v]\u001b[38;5;241m==\u001b[39m\u001b[38;5;241m0\u001b[39m:\n\u001b[1;32m     29\u001b[0m         Q\u001b[38;5;241m.\u001b[39mappend(v) \u001b[38;5;66;03m#add unexplored neighbors to back of queue\u001b[39;00m\n\u001b[1;32m     30\u001b[0m         L2[v]\u001b[38;5;241m=\u001b[39m\u001b[38;5;241m1\u001b[39m\n",
      "\u001b[0;31mIndexError\u001b[0m: list index out of range"
     ]
    }
   ],
   "source": [
    "#Testing\n",
    "G = nx.Graph()\n",
    "e = [(1, 2), (1, 5), (2, 5), (2, 3), (3, 4), (4, 5), (4, 6)]\n",
    "G.add_edges_from(e)\n",
    "x = 1\n",
    "bfs(G, x)"
   ]
  },
  {
   "cell_type": "markdown",
   "metadata": {},
   "source": [
    "2. Test your function with the Barabasi-Albert graph generated below and verify (using networkx) that it computes shortest-paths correctly:"
   ]
  },
  {
   "cell_type": "code",
   "execution_count": 9,
   "metadata": {},
   "outputs": [
    {
     "name": "stdout",
     "output_type": "stream",
     "text": [
      "***x= 0  ***\n",
      "v= 1\n",
      "Q= [1]\n",
      "v= 2\n",
      "Q= [1, 2]\n",
      "v= 3\n",
      "Q= [1, 2, 3]\n",
      "v= 5\n",
      "Q= [1, 2, 3, 5]\n",
      "v= 6\n",
      "Q= [1, 2, 3, 5, 6]\n",
      "v= 7\n",
      "Q= [1, 2, 3, 5, 6, 7]\n",
      "***x= 1  ***\n",
      "v= 0\n",
      "Q= [2, 3, 5, 6, 7]\n",
      "v= 4\n",
      "Q= [2, 3, 5, 6, 7, 4]\n",
      "v= 5\n",
      "Q= [2, 3, 5, 6, 7, 4]\n",
      "v= 6\n",
      "Q= [2, 3, 5, 6, 7, 4]\n",
      "v= 9\n",
      "Q= [2, 3, 5, 6, 7, 4, 9]\n",
      "***x= 2  ***\n",
      "v= 0\n",
      "Q= [3, 5, 6, 7, 4, 9]\n",
      "v= 4\n",
      "Q= [3, 5, 6, 7, 4, 9]\n",
      "v= 9\n",
      "Q= [3, 5, 6, 7, 4, 9]\n",
      "***x= 3  ***\n",
      "v= 0\n",
      "Q= [5, 6, 7, 4, 9]\n",
      "v= 4\n",
      "Q= [5, 6, 7, 4, 9]\n",
      "v= 5\n",
      "Q= [5, 6, 7, 4, 9]\n",
      "v= 7\n",
      "Q= [5, 6, 7, 4, 9]\n",
      "v= 8\n",
      "Q= [5, 6, 7, 4, 9, 8]\n",
      "***x= 5  ***\n",
      "v= 0\n",
      "Q= [6, 7, 4, 9, 8]\n",
      "v= 1\n",
      "Q= [6, 7, 4, 9, 8]\n",
      "v= 3\n",
      "Q= [6, 7, 4, 9, 8]\n",
      "v= 6\n",
      "Q= [6, 7, 4, 9, 8]\n",
      "v= 8\n",
      "Q= [6, 7, 4, 9, 8]\n",
      "v= 9\n",
      "Q= [6, 7, 4, 9, 8]\n",
      "***x= 6  ***\n",
      "v= 0\n",
      "Q= [7, 4, 9, 8]\n",
      "v= 1\n",
      "Q= [7, 4, 9, 8]\n",
      "v= 5\n",
      "Q= [7, 4, 9, 8]\n",
      "***x= 7  ***\n",
      "v= 0\n",
      "Q= [4, 9, 8]\n",
      "v= 3\n",
      "Q= [4, 9, 8]\n",
      "v= 4\n",
      "Q= [4, 9, 8]\n",
      "v= 8\n",
      "Q= [4, 9, 8]\n",
      "***x= 4  ***\n",
      "v= 1\n",
      "Q= [9, 8]\n",
      "v= 2\n",
      "Q= [9, 8]\n",
      "v= 3\n",
      "Q= [9, 8]\n",
      "v= 7\n",
      "Q= [9, 8]\n",
      "***x= 9  ***\n",
      "v= 1\n",
      "Q= [8]\n",
      "v= 2\n",
      "Q= [8]\n",
      "v= 5\n",
      "Q= [8]\n",
      "***x= 8  ***\n",
      "v= 3\n",
      "Q= []\n",
      "v= 5\n",
      "Q= []\n",
      "v= 7\n",
      "Q= []\n",
      "bfs result: [[0], [0, 1], [0, 2], [0, 3], [0, 1, 4], [0, 5], [0, 6], [0, 7], [0, 3, 8], [0, 1, 9]]\n",
      "nx result: {0: [0], 1: [0, 1], 2: [0, 2], 3: [0, 3], 5: [0, 5], 6: [0, 6], 7: [0, 7], 4: [0, 1, 4], 9: [0, 1, 9], 8: [0, 3, 8]}\n"
     ]
    }
   ],
   "source": [
    "G = nx.barabasi_albert_graph(10,3)\n",
    "L2,L3,L4 = bfs(G,0)\n",
    "D4 = nx.shortest_path(G,0)  \n",
    "print(\"bfs result:\",L4)\n",
    "print(\"nx result:\", D4) \n",
    "#note that there may be more than one shortest path between two nodes"
   ]
  },
  {
   "cell_type": "markdown",
   "metadata": {},
   "source": [
    "3. Say that the maximum distance in the graph is $d_{max}$. Use $d_{max}$ to construct an estimate the big-O cost of computing the paths. "
   ]
  },
  {
   "cell_type": "markdown",
   "metadata": {},
   "source": [
    "The cost of constructing the shortest path for node $i$ is $O(d_{si})$ where $d_{si}$ is the distance between $i$ and the source node. So, we can say that the cost of computing all paths is $O(N d_{max})$. For large complex networks, this maximum distance (the graph \"diameter\") increases logarithmically with $N$. "
   ]
  },
  {
   "cell_type": "markdown",
   "metadata": {},
   "source": [
    "### Task 2: Connected components"
   ]
  },
  {
   "cell_type": "markdown",
   "metadata": {},
   "source": [
    "A connected component of a graph is a set of nodes where there is at least one path between any pair of nodes in the set. A graph may contain several connected components, and the aim of this task is to assign a distinct numerical label to all nodes belonging to the same component. So, if a graph with 5 nodes has links: 0-1, 1-2, 3-4, then nodes 0,1,2 would be labeled belonging to component \"0\" and nodes 3,4 would be assigned to component \"1\". \n",
    "\n",
    "The basic algorithm is as follows:\n",
    "\n",
    "* Initialize numerical label to 0\n",
    "* Loop through all nodes in graph\n",
    "    * if current node has not been explored\n",
    "        * Assign numerical label to current node and label it as explored\n",
    "        * Find all nodes reachable from current node, label them as explored and assign numerical label to them\n",
    "        * Increment numerical label\n",
    "\n"
   ]
  },
  {
   "cell_type": "markdown",
   "metadata": {},
   "source": [
    "1. Implement this algorithm in the cell below so that it takes a networkx graph as input and creates a list, Lconnect, where Lconnect[i] is the label for the connected component that node i belongs to. You may assume that nodes have \n",
    "been numbered from 0 to N-1. You have been provided with a function that implements depth-first search."
   ]
  },
  {
   "cell_type": "code",
   "execution_count": 10,
   "metadata": {},
   "outputs": [],
   "source": [
    "import networkx as nx\n",
    "\n",
    "def dfs(G,s,L2,label):\n",
    "    \"\"\"\n",
    "    Input:\n",
    "    G: networkx graph\n",
    "    s: source node\n",
    "    L2: labels for reachable nodes, used in conjunction with connect below\n",
    "    label: label of \"current\" component as set by connect\n",
    "    Find reachable nodes using DFS\n",
    "    Output:\n",
    "    L2: Labels for all nodes in graph, -1=unreachable from source, label=reachable\n",
    "    \"\"\"\n",
    "\n",
    "    Q=[]\n",
    "    Q.append(s)\n",
    "    L2[s]=label\n",
    "\n",
    "    while len(Q)>0:\n",
    "        x = Q.pop()\n",
    "        for v in G.adj[x].keys():\n",
    "            if L2[v]==-1:\n",
    "                Q.append(v)\n",
    "                L2[v]=label\n",
    "            #print(\"v=\",v)\n",
    "            #print(\"Q=\",Q)\n",
    "    return L2\n",
    "\n",
    "def connect(G):\n",
    "    \"\"\"Find connected components of G and label nodes appropriately\n",
    "    in list, Lconnect.\n",
    "    \"\"\"\n",
    "    Lconnect = [-1 for n in G.nodes()]\n",
    "    label=0\n",
    "    #Add code here\n",
    "    for i in G.nodes():\n",
    "        if Lconnect[i]==-1:\n",
    "            Lconnect = dfs(G,i,Lconnect,label)\n",
    "            label = label+1\n",
    "\n",
    "    return Lconnect"
   ]
  },
  {
   "cell_type": "markdown",
   "metadata": {},
   "source": [
    "2. Use the random graph generated below to verify that your code is correct. What is the asymptotic time complexity of your routine? "
   ]
  },
  {
   "cell_type": "code",
   "execution_count": 12,
   "metadata": {},
   "outputs": [
    {
     "name": "stdout",
     "output_type": "stream",
     "text": [
      "Lconnect= [0, 1, 2, 1, 3, 3, 4, 5, 6, 1]\n"
     ]
    },
    {
     "data": {
      "image/png": "[encoded data removed]",
      "text/plain": [
       "<Figure size 640x480 with 1 Axes>"
      ]
     },
     "metadata": {},
     "output_type": "display_data"
    }
   ],
   "source": [
    "G = nx.erdos_renyi_graph(10,0.1)\n",
    "nx.draw_networkx(G,with_labels=True)\n",
    "Lconnect = connect(G)\n",
    "print(\"Lconnect=\",Lconnect)"
   ]
  },
  {
   "cell_type": "markdown",
   "metadata": {},
   "source": [
    "DFS has been modified above for use with *connect*, however its cost remains O(N+L). DFS is called once per connected component, so the total cost is O(N+L)"
   ]
  }
 ],
 "metadata": {
  "kernelspec": {
   "display_name": "Python 3 (ipykernel)",
   "language": "python",
   "name": "python3"
  },
  "language_info": {
   "codemirror_mode": {
    "name": "ipython",
    "version": 3
   },
   "file_extension": ".py",
   "mimetype": "text/x-python",
   "name": "python",
   "nbconvert_exporter": "python",
   "pygments_lexer": "ipython3",
   "version": "3.11.5"
  }
 },
 "nbformat": 4,
 "nbformat_minor": 1
}
