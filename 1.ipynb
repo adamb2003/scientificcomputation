{
 "cells": [
  {
   "cell_type": "markdown",
   "metadata": {},
   "source": [
    "## Scientific Computation Lab 1"
   ]
  },
  {
   "cell_type": "markdown",
   "metadata": {},
   "source": [
    "#### Task 1: Python functions and recursion"
   ]
  },
  {
   "cell_type": "markdown",
   "metadata": {},
   "source": [
    "Python functions are a useful way to organize complicated pieces of code. Recall, the basic idea underlying functions is to provide input and for the function to return something back to the user:"
   ]
  },
  {
   "cell_type": "code",
   "execution_count": 1,
   "metadata": {},
   "outputs": [],
   "source": [
    "\"\"\"To run a cell, go to the Cell menu above or press \"shift\"+\"return\"\n",
    "\"\"\"\n",
    "def sum3(x,y,z):\n",
    "    return x + y + z"
   ]
  },
  {
   "cell_type": "code",
   "execution_count": 2,
   "metadata": {},
   "outputs": [
    {
     "data": {
      "text/plain": [
       "13"
      ]
     },
     "execution_count": 2,
     "metadata": {},
     "output_type": "execute_result"
    }
   ],
   "source": [
    "sum3(2,4,7)"
   ]
  },
  {
   "cell_type": "markdown",
   "metadata": {},
   "source": [
    "A function is not required to return anything, and further details on their usage can be found in the tutorial here: http://bitbucket.org/m345sc/sc2021/raw/master/python/python5.ipynb\n",
    "In this lab, we will focus on *recursive* functions. Often, a function takes on an iterative or recurrent form, $F(x_n) = G(F(x_{n-1}), F(x_{n-2}),...$)). Consider, for example, the Fibonacci sequence where $F_n = F_{n-1} + F_{n-2}$. Many problems of this form can be tackled using *recursion* where a function calls itself with appropriately modified input. For the Fibonacci sequence, we have:"
   ]
  },
  {
   "cell_type": "code",
   "execution_count": 12,
   "metadata": {},
   "outputs": [],
   "source": [
    "def fib(n):\n",
    "    \"\"\"Find nth term in Fibonacci sequence start from 0,1\n",
    "    \"\"\"\n",
    "    if n==1:\n",
    "        return 0\n",
    "    elif n==2:\n",
    "        return 1\n",
    "    else:\n",
    "        print(fib(n-2) + fib(n-1))\n",
    "        return fib(n-2) + fib(n-1)"
   ]
  },
  {
   "cell_type": "markdown",
   "metadata": {},
   "source": [
    "Run the function above with a few different values of n and verify that it works correctly. Add a print statement to the function so you can check the order in which fib is called with different values for input. "
   ]
  },
  {
   "cell_type": "code",
   "execution_count": 16,
   "metadata": {},
   "outputs": [
    {
     "name": "stdout",
     "output_type": "stream",
     "text": [
      "1\n",
      "1\n",
      "2\n",
      "1\n",
      "3\n",
      "1\n",
      "1\n",
      "2\n",
      "1\n"
     ]
    },
    {
     "data": {
      "text/plain": [
       "3"
      ]
     },
     "execution_count": 16,
     "metadata": {},
     "output_type": "execute_result"
    }
   ],
   "source": [
    "fib(5)"
   ]
  },
  {
   "cell_type": "markdown",
   "metadata": {},
   "source": [
    "For $n>2$, *fib* generates a *call stack* -- a stack of calls to itself with different input. Note that recursive functions require one or more base cases to ensure that they don't keep calling themselves indefinitely (what are the base cases in *fib*?).\n",
    "\n",
    "Recursion can also be used to develop a function to compute $n!$\n",
    "Complete the function for the factorial below:"
   ]
  },
  {
   "cell_type": "code",
   "execution_count": 5,
   "metadata": {},
   "outputs": [],
   "source": [
    "def factorial(n):\n",
    "    \"\"\"\n",
    "    Compute and return n!\n",
    "    \"\"\"\n",
    "    if n == 0:\n",
    "        return 1\n",
    "    else:\n",
    "        return n * factorial(n-1)"
   ]
  },
  {
   "cell_type": "code",
   "execution_count": 6,
   "metadata": {},
   "outputs": [
    {
     "data": {
      "text/plain": [
       "720"
      ]
     },
     "execution_count": 6,
     "metadata": {},
     "output_type": "execute_result"
    }
   ],
   "source": [
    "factorial(6)"
   ]
  },
  {
   "cell_type": "markdown",
   "metadata": {},
   "source": [
    "#### Task 2: Recursive binary search"
   ]
  },
  {
   "cell_type": "markdown",
   "metadata": {},
   "source": [
    "In lecture we developed an iterative approach to binary search:"
   ]
  },
  {
   "cell_type": "code",
   "execution_count": 24,
   "metadata": {},
   "outputs": [],
   "source": [
    "import numpy as np\n",
    "def bsearch(L,x):\n",
    "\n",
    "    #Set initial start and end indices for full list\n",
    "    istart = 0\n",
    "    iend = len(L)-1\n",
    "\n",
    "    #Iterate and contract \"active\" portion of list\n",
    "    while istart<=iend:\n",
    "\n",
    "        imid = int(0.5*(istart+iend))\n",
    "\n",
    "        if x==L[imid]:\n",
    "            return imid\n",
    "        elif x < L[imid]:\n",
    "            iend = imid-1\n",
    "        else:\n",
    "            istart = imid+1\n",
    "\n",
    "    return -1000"
   ]
  },
  {
   "cell_type": "markdown",
   "metadata": {},
   "source": [
    "1) Run the cell above, and then add python code to the cell below to test the function using the provided array, L"
   ]
  },
  {
   "cell_type": "code",
   "execution_count": 25,
   "metadata": {
    "scrolled": true
   },
   "outputs": [
    {
     "name": "stdout",
     "output_type": "stream",
     "text": [
      "L= [2 3 3 4 6 8 9 9]\n",
      "target= 6\n",
      "index= 4\n",
      "L[ix]= 6\n"
     ]
    }
   ],
   "source": [
    "L = np.sort(np.random.randint(1,12,8))\n",
    "x = np.random.randint(1,12)\n",
    "ix = bsearch(L, x)\n",
    "print(\"L=\",L)\n",
    "print(\"target=\",x)\n",
    "print(\"index=\",ix)\n",
    "if ix!=-1000:\n",
    "    print(\"L[ix]=\",L[ix])\n",
    "    "
   ]
  },
  {
   "cell_type": "markdown",
   "metadata": {},
   "source": [
    "2) Now, you should develop a *recursive* version of bsearch in the cell below"
   ]
  },
  {
   "cell_type": "code",
   "execution_count": 59,
   "metadata": {},
   "outputs": [],
   "source": [
    "import numpy as np\n",
    "def bsearch2(L,x,istart=0,iend=-1000):\n",
    "    #Set initial start and end indices for full list if iend=-1000\n",
    "    if iend==-1000: \n",
    "        iend = len(L)-1\n",
    "    imid = int(0.5*(istart+iend))\n",
    "    \n",
    "    #Check if search has \"converged\", otherwise search in appropriate \"half\" of data\n",
    "    if istart>iend: \n",
    "        return -1000\n",
    "    \n",
    "    # 1) comparison between x and L[imid] and 2) 2 recursive calls\n",
    "    if x == L[imid]:\n",
    "        return imid\n",
    "    elif x < L[imid]:\n",
    "        return bsearch2(L, x, istart, imid - 1)\n",
    "    else:\n",
    "        return bsearch2(L, x, imid + 1, iend)\n",
    "    "
   ]
  },
  {
   "cell_type": "markdown",
   "metadata": {},
   "source": [
    "3) As before, run the cell above, and then add python code to the cell below to test the function using the provided array, L"
   ]
  },
  {
   "cell_type": "code",
   "execution_count": 60,
   "metadata": {},
   "outputs": [
    {
     "name": "stdout",
     "output_type": "stream",
     "text": [
      "L= [ 1  3  4  6  9 11 11 11]\n",
      "target= 7\n",
      "index= -1000\n"
     ]
    }
   ],
   "source": [
    "L = np.sort(np.random.randint(1,12,8))\n",
    "x = np.random.randint(1,12)\n",
    "ix = bsearch2(L, x)\n",
    "print(\"L=\",L)\n",
    "print(\"target=\",x)\n",
    "print(\"index=\",ix)\n",
    "if ix>-1:\n",
    "    print(\"L[ix]=\",L[ix])"
   ]
  },
  {
   "cell_type": "code",
   "execution_count": null,
   "metadata": {},
   "outputs": [],
   "source": []
  }
 ],
 "metadata": {
  "kernelspec": {
   "display_name": "Python 3 (ipykernel)",
   "language": "python",
   "name": "python3"
  },
  "language_info": {
   "codemirror_mode": {
    "name": "ipython",
    "version": 3
   },
   "file_extension": ".py",
   "mimetype": "text/x-python",
   "name": "python",
   "nbconvert_exporter": "python",
   "pygments_lexer": "ipython3",
   "version": "3.11.5"
  }
 },
 "nbformat": 4,
 "nbformat_minor": 2
}
